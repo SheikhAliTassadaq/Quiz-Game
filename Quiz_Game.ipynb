{
  "nbformat": 4,
  "nbformat_minor": 0,
  "metadata": {
    "colab": {
      "provenance": [],
      "authorship_tag": "ABX9TyMg092oRrZUvW+Cz3bF2noH",
      "include_colab_link": true
    },
    "kernelspec": {
      "name": "python3",
      "display_name": "Python 3"
    },
    "language_info": {
      "name": "python"
    }
  },
  "cells": [
    {
      "cell_type": "markdown",
      "metadata": {
        "id": "view-in-github",
        "colab_type": "text"
      },
      "source": [
        "<a href=\"https://colab.research.google.com/github/SheikhAliTassadaq/Quiz-Game/blob/main/Quiz_Game.ipynb\" target=\"_parent\"><img src=\"https://colab.research.google.com/assets/colab-badge.svg\" alt=\"Open In Colab\"/></a>"
      ]
    },
    {
      "cell_type": "code",
      "source": [
        "#----------------------------------------------------\n",
        "def new_game():\n",
        "  guesses = []\n",
        "  corrected_score = 0\n",
        "  question_num = 1\n",
        "  for key in questions:\n",
        "    print()\n",
        "    print(key)\n",
        "    for i in options[question_num-1]:\n",
        "      print(i)\n",
        "    guess = input(\"Enter only one option : (A , B . C , D)\")\n",
        "    guess = guess.upper()\n",
        "    guesses.append(guess)\n",
        "\n",
        "    corrected_score += check_answer(questions.get(key),guess)\n",
        "\n",
        "    question_num += 1\n",
        "\n",
        "  display_score(corrected_score,guesses)\n",
        "\n",
        "#----------------------------------------------------\n",
        "def check_answer(answer,guess):\n",
        "  if (answer == guess):\n",
        "    print(\"Correct!\")\n",
        "    return 1\n",
        "  else:\n",
        "    print(\"Wrong Answer :(\")\n",
        "    return 0\n",
        "\n",
        "#----------------------------------------------------\n",
        "def display_score(corrected_score,guesses):\n",
        "  print(\"-------------------------------\")\n",
        "  print(\"RESULTS\")\n",
        "  print(\"-------------------------------\")\n",
        "\n",
        "  print(\"Answer : \", end= \"  \")\n",
        "  for i in questions:\n",
        "    print(questions.get(i), end=\"  \")\n",
        "  print()\n",
        "\n",
        "  print(\"Guesses : \", end= \"  \")\n",
        "  for j in guesses:\n",
        "    print(j , end = \"  \")\n",
        "  print()\n",
        "\n",
        "  total_score = int(corrected_score/len(questions)*100)\n",
        "  print(\" Your final score is :\"+str(total_score)+\"%\")\n",
        "#----------------------------------------------------\n",
        "def play_again():\n",
        "  Response = input(\"Do you want to play Again? (yes/no)\" )\n",
        "  Response = Response.upper()\n",
        "  if Response == \"YES\":\n",
        "    return True\n",
        "  else:\n",
        "    return False\n",
        "#----------------------------------------------------"
      ],
      "metadata": {
        "id": "ZcotltVu2Gdk"
      },
      "execution_count": 6,
      "outputs": []
    },
    {
      "cell_type": "code",
      "execution_count": 7,
      "metadata": {
        "colab": {
          "base_uri": "https://localhost:8080/"
        },
        "id": "j9Ej6RWK1SPy",
        "outputId": "c503d3f0-df18-4a2e-c2a4-14a0a73aa0fd"
      },
      "outputs": [
        {
          "output_type": "stream",
          "name": "stdout",
          "text": [
            "\n",
            "Who created Python ?: \n",
            "A. Guido van Rossum\n",
            "B. Elon Musk\n",
            "C. Bill Gates\n",
            "D. Mark Zuckerburg\n",
            "Enter only one option : (A , B . C , D)A\n",
            "Correct!\n",
            "\n",
            "What year was Python created ?: \n",
            "A. 1989\n",
            "B. 1991\n",
            "C. 2000\n",
            "D. 2016\n",
            "Enter only one option : (A , B . C , D)E\n",
            "Wrong Answer :(\n",
            "\n",
            "Python is tributed to which comedy group ?: \n",
            "A. Lonely Island\n",
            "B. Smosh\n",
            "C. Monty Python\n",
            "D. SNL\n",
            "Enter only one option : (A , B . C , D)D\n",
            "Wrong Answer :(\n",
            "\n",
            "Is the Earth round ?: \n",
            "A. True\n",
            "B. False\n",
            "C. sometimes\n",
            "D. What's Earth?\n",
            "Enter only one option : (A , B . C , D)A\n",
            "Correct!\n",
            "-------------------------------\n",
            "RESULTS\n",
            "-------------------------------\n",
            "Answer :   A  B  C  A  \n",
            "Guesses :   A  E  D  A  \n",
            " Your final score is :50%\n",
            "Do you want to play Again? (yes/no)NO\n",
            "byeeee\n"
          ]
        }
      ],
      "source": [
        "questions = {\n",
        "\"Who created Python ?: \": \"A\",\n",
        "\"What year was Python created ?: \": \"B\",\n",
        "\"Python is tributed to which comedy group ?: \": \"C\",\n",
        "\"Is the Earth round ?: \": \"A\"}\n",
        "\n",
        "options = [[\"A. Guido van Rossum\", \"B. Elon Musk\", \"C. Bill Gates\", \"D. Mark Zuckerburg\"],\n",
        "[\"A. 1989\", \"B. 1991\", \"C. 2000\", \"D. 2016\"],\n",
        "[\"A. Lonely Island\", \"B. Smosh\", \"C. Monty Python\", \"D. SNL\"],\n",
        "[\"A. True\", \"B. False\", \"C. sometimes\", \"D. What's Earth?\"]]\n",
        "\n",
        "new_game()\n",
        "\n",
        "while play_again():\n",
        "  new_game()\n",
        "print(\"byeeee\")\n",
        "\n",
        "\n",
        ""
      ]
    }
  ]
}